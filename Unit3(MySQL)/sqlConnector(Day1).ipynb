{
 "cells": [
  {
   "cell_type": "code",
   "execution_count": null,
   "metadata": {},
   "outputs": [],
   "source": [
    "!pip3 install mysql-connector-python"
   ]
  },
  {
   "cell_type": "code",
   "execution_count": null,
   "metadata": {},
   "outputs": [],
   "source": [
    "!pip3 install mysql-connector-python"
   ]
  },
  {
   "cell_type": "code",
   "execution_count": null,
   "metadata": {},
   "outputs": [],
   "source": [
    "try:\n",
    "    con = mysql.connector.connect(host='localhost', user='root', password='root', database='employee')\n",
    "\n",
    "except:\n",
    "    print(\"Unable to Connect\")"
   ]
  },
  {
   "cell_type": "code",
   "execution_count": null,
   "metadata": {},
   "outputs": [],
   "source": [
    "try:\n",
    "    con = mysql.connector.connect(host='localhost', user='root', password='root', database='employee')\n",
    "    print(\"Connected\")\n",
    "    cur = con.cursor()\n",
    "    res = cur.execute(\"select * from emp\")\n",
    "    for row in cur.fetchall():\n",
    "        print(row)\n",
    "\n",
    "except:\n",
    "    print(\"Unable to Connect\")"
   ]
  },
  {
   "cell_type": "code",
   "execution_count": null,
   "metadata": {},
   "outputs": [],
   "source": [
    "try: \n",
    "    con = mysql.connector.connect(host='localhost', user='root', password='root', database='employee')\n",
    "    print(\"Connected\")\n",
    "    cur = con.cursor()\n",
    "    temp = cur.execute(\"Insert Into Student3(id, rollNo, name, email, age, city) VALUES(105, 5,, 'eepy', 'njhdv@gmail.com', 20, 'delhi'\")\n",
    "    con.commit()\n",
    "    con.close()\n",
    "\n",
    "except:\n",
    "    print(\"Unable to Connect\")"
   ]
  },
  {
   "cell_type": "code",
   "execution_count": null,
   "metadata": {},
   "outputs": [],
   "source": [
    "id = int(input(\"Enter the id: \"))\n",
    "rollNo = int(input(\"Enter the rollNo: \"))\n",
    "name = input(\"Enter the name: \")\n",
    "email = input(\"Enter the email: \")\n",
    "age = int(input(\"Enter the age: \"))\n",
    "city = input(\"Enter the city: \")\n",
    "value = (id, rollNo, name, email, age, city)\n",
    "\n",
    "try:\n",
    "    con = mysql.connector.connect(host='localhost', user ='root', password='root', database='employee')\n",
    "    print(\"Connected\")\n",
    "    cur = con.cursor()\n",
    "    temp = cur.execute(\"Insert Into Student3(id, rollNo, name, email, age, city) VALUES(%s, %s, %s, %s, %s, %s)\", value)\n",
    "    con.commit()\n",
    "    con.close()\n",
    "\n",
    "except:\n",
    "    print(\"Unable to Connect\")"
   ]
  },
  {
   "cell_type": "code",
   "execution_count": null,
   "metadata": {},
   "outputs": [],
   "source": [
    "def display_schema(tablename):\n",
    "    try:\n",
    "        con = mysql.connector.connect(host='localhost', user='root', password='root', database='employee')\n",
    "        print(\"Connected\")\n",
    "        cur = con.cursor()\n",
    "        # cur.execute(\"DESC \" + tablename)\n",
    "        cur.execute(f\"DESCRIBE {tablename}\")\n",
    "        print(cur.fetchall())\n",
    "        con.close()\n",
    "\n",
    "    except:\n",
    "        print(\"Unable to Connect\")"
   ]
  },
  {
   "cell_type": "code",
   "execution_count": null,
   "metadata": {},
   "outputs": [],
   "source": [
    "display_schema('student3')"
   ]
  },
  {
   "cell_type": "code",
   "execution_count": null,
   "metadata": {},
   "outputs": [],
   "source": [
    "try:\n",
    "    con = mysql.connector.connect(host='localhost', user='root', password='root', database='employee')\n",
    "    print(\"Connected\")\n",
    "    new = connection.cursor()\n",
    "    new.execute(\"Insert into Student(roll, name, branch, section) VALUES(%s, %s, %s, %s)\", data)\n",
    "    con.close()\n",
    "\n",
    "except:\n",
    "    print(\"Unable to Connect\")"
   ]
  }
 ],
 "metadata": {
  "kernelspec": {
   "display_name": "Python 3",
   "language": "python",
   "name": "python3"
  },
  "language_info": {
   "name": "python",
   "version": "3.13.2"
  }
 },
 "nbformat": 4,
 "nbformat_minor": 2
}
