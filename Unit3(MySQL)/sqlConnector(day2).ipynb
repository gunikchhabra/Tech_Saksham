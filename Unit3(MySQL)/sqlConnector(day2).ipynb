{
 "cells": [
  {
   "cell_type": "code",
   "execution_count": null,
   "metadata": {},
   "outputs": [],
   "source": [
    "# -*- coding: utf-8 -*-\n",
    "import mysql.connector"
   ]
  },
  {
   "cell_type": "code",
   "execution_count": null,
   "metadata": {},
   "outputs": [],
   "source": [
    "#connecting to sql server\n",
    "\n",
    "try:\n",
    "    con = mysql.connector.connect(host = 'localhost', user ='root' , password = 'root', database = 'test')\n",
    "    cur = con.cursor() # object\n",
    "    con.execute('Show Database')\n",
    "    print(cur.fetchall())\n",
    "    con.close()\n",
    "\n",
    "except Exception as e:\n",
    "    print('Error:', e)\n"
   ]
  },
  {
   "cell_type": "code",
   "execution_count": null,
   "metadata": {},
   "outputs": [],
   "source": [
    "# creating choice\n",
    "\n",
    "import mysql.connector\n",
    "\n",
    "def signup(data):\n",
    "    try:\n",
    "        con = mysql.connector.connect(host = 'localhost', user ='root' , password = 'root', database = 'test')\n",
    "        cur = con.cursor() # object\n",
    "        cur.execute(f'select * from student_record where roll = {data[0]}')\n",
    "        result = cur.fetchone()\n",
    "        if result:\n",
    "            con.close()\n",
    "            return False\n",
    "        else:\n",
    "            cur.execute('INSERT INTO student_record(roll, name, branch, password, admin_year, per_10, per_12) values(%s, %s, %s, %s, %s, %s, %s)', data)\n",
    "            con.commit()\n",
    "            con.close()\n",
    "            return True\n",
    "    except Exception as e:\n",
    "        print('Error:', e)\n",
    "\n",
    "\n",
    "print(\"*\"*20 + \"Welocome to mY app\" + \"20\"*20)\n",
    "while True:\n",
    "    print(\"1. SignIn \\n 2. SingUP \\n 3. Search \\n 4. Display All \\n 5. Filter Using percentage \\n 6. Exit\")\n",
    "    ch = int(input(\"Enter your choice: \"))\n",
    "    if ch == 1:\n",
    "        pass\n",
    "    elif ch == 2:\n",
    "        roll = int(input(\"Enter roll number: \"))\n",
    "        name = input(\"Enter name: \")\n",
    "        branch = input(\"Enter branch: \")\n",
    "        password = input(\"Enter password: \")\n",
    "        admin_year = input(\"Enter branch: \")\n",
    "        per_10 = float(input(\"Enter percentage: \"))\n",
    "        per_12 = float(input(\"Enter percentage: \"))\n",
    "        if signup((roll, name, branch, password, admin_year, per_10, per_12)):\n",
    "            print(\"Student Registered Successfully\")\n",
    "        else:\n",
    "            print(\"Student already registered\")\n",
    "\n",
    "    elif ch == 3:\n",
    "        pass\n",
    "    elif ch == 4:\n",
    "        pass\n",
    "    elif ch == 5:\n",
    "        pass\n",
    "    elif ch == 6:\n",
    "        break\n",
    "    else:\n",
    "        print(\"Invalid choice\")"
   ]
  }
 ],
 "metadata": {
  "kernelspec": {
   "display_name": "Python 3",
   "language": "python",
   "name": "python3"
  },
  "language_info": {
   "name": "python",
   "version": "3.13.2"
  }
 },
 "nbformat": 4,
 "nbformat_minor": 2
}
