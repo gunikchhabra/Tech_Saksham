{
 "cells": [
  {
   "cell_type": "code",
   "execution_count": null,
   "metadata": {},
   "outputs": [],
   "source": [
    "!pip3 install mysql-connector-python"
   ]
  },
  {
   "cell_type": "code",
   "execution_count": null,
   "metadata": {},
   "outputs": [],
   "source": [
    "import mysql-connector\n",
    "\n",
    "try:\n",
    "    con = mysql.connector.connect(host = 'localhost', user ='' , password = '', database = 'test')\n",
    "    cur = con.cursor() # object\n",
    "    con.execute('show database')\n",
    "    print(cur.fetchall())\n",
    "    con.close()\n",
    "\n",
    "except Exception as e:\n",
    "    print('Error:', e)\n"
   ]
  },
  {
   "cell_type": "code",
   "execution_count": null,
   "metadata": {},
   "outputs": [],
   "source": [
    "print(\"*\"*20 + \"Welocome to mY app\" + \"20\"*20)\n",
    "while True:\n",
    "    print(\"1. SignIn \\n 2. SingUP \\n 3. Search \\n 4. Display All \\n 5. Filter Using percentage \\n 6. Exit\")\n",
    "    ch = int(input(\"Enter your choice: \"))\n",
    "    if ch == 1:\n",
    "        pass\n",
    "    elif ch == 2:\n",
    "        pass\n",
    "    elif ch == 3:\n",
    "        pass\n",
    "    elif ch == 4:\n",
    "        pass\n",
    "    elif ch == 5:\n",
    "        pass\n",
    "    elif ch == 6:\n",
    "        break\n",
    "    else:\n",
    "        print(\"Invalid choice\")"
   ]
  }
 ],
 "metadata": {
  "kernelspec": {
   "display_name": "Python 3",
   "language": "python",
   "name": "python3"
  },
  "language_info": {
   "name": "python",
   "version": "3.13.2"
  }
 },
 "nbformat": 4,
 "nbformat_minor": 2
}
