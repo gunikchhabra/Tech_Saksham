{
 "cells": [
  {
   "cell_type": "code",
   "execution_count": 6,
   "id": "6d510067-0a99-471c-804f-8c11b925b29f",
   "metadata": {},
   "outputs": [
    {
     "name": "stdout",
     "output_type": "stream",
     "text": [
      "[[1 2 3]\n",
      " [3 4 5]\n",
      " [5 6 7]]\n"
     ]
    }
   ],
   "source": [
    "import numpy as np\n",
    "arr1=np.array([[1,2,3],[3,4,5],[5,6,7]])\n",
    "print(arr1)"
   ]
  },
  {
   "cell_type": "code",
   "execution_count": 8,
   "id": "0c8ba49b-395f-42ac-8493-37b332af5f4f",
   "metadata": {},
   "outputs": [
    {
     "data": {
      "text/plain": [
       "array([1, 2, 3])"
      ]
     },
     "execution_count": 8,
     "metadata": {},
     "output_type": "execute_result"
    }
   ],
   "source": [
    "arr1[0]"
   ]
  },
  {
   "cell_type": "code",
   "execution_count": 10,
   "id": "80227eff-46b1-4a77-99d1-16cbdb5ab127",
   "metadata": {},
   "outputs": [
    {
     "data": {
      "text/plain": [
       "1"
      ]
     },
     "execution_count": 10,
     "metadata": {},
     "output_type": "execute_result"
    }
   ],
   "source": [
    "arr1[0][0]\n"
   ]
  },
  {
   "cell_type": "code",
   "execution_count": 18,
   "id": "8cced011-6423-4907-9227-f587b2f1e72a",
   "metadata": {},
   "outputs": [
    {
     "data": {
      "text/plain": [
       "array([[2, 3],\n",
       "       [4, 5],\n",
       "       [6, 7]])"
      ]
     },
     "execution_count": 18,
     "metadata": {},
     "output_type": "execute_result"
    }
   ],
   "source": [
    "arr1[0:3,1:3]# row slicing , column slicing"
   ]
  },
  {
   "cell_type": "code",
   "execution_count": 21,
   "id": "14967176-92bc-4710-9f5d-940b7f230078",
   "metadata": {},
   "outputs": [
    {
     "name": "stdout",
     "output_type": "stream",
     "text": [
      "[[ 7  3 13  5  7 35 90 35 14 41]\n",
      " [81 95 97 29 49 34 66 17 42 68]\n",
      " [78 83  5 67 83 98 65 31  0 41]\n",
      " [79 24 99 81 50 29 55 85 63 79]\n",
      " [26 77 58 91 14 21 75 57 95 30]\n",
      " [42 75 43 86 21 96 84 14 97 69]\n",
      " [ 7 18 32 39 60  9 70 95 97 45]\n",
      " [21  8 78 41 47 47 23 50 14 82]\n",
      " [91 88  5 16 39 40 75 51  7 40]\n",
      " [78  8 94 52 45 60 73 58 77 80]]\n"
     ]
    }
   ],
   "source": [
    "arr3=np.random.randint(100,size=(10,10))\n",
    "print(arr3)"
   ]
  },
  {
   "cell_type": "code",
   "execution_count": 23,
   "id": "ddcbf59c-4523-4c09-b7ab-cec4fc00767b",
   "metadata": {},
   "outputs": [
    {
     "data": {
      "text/plain": [
       "array([[ 3,  7, 35],\n",
       "       [95, 49, 17],\n",
       "       [83, 83, 31],\n",
       "       [24, 50, 85],\n",
       "       [77, 14, 57],\n",
       "       [75, 21, 14],\n",
       "       [18, 60, 95],\n",
       "       [ 8, 47, 50],\n",
       "       [88, 39, 51],\n",
       "       [ 8, 45, 58]])"
      ]
     },
     "execution_count": 23,
     "metadata": {},
     "output_type": "execute_result"
    }
   ],
   "source": [
    "arr3[:,[1,4,7]]"
   ]
  },
  {
   "cell_type": "code",
   "execution_count": 33,
   "id": "663fc6aa-7482-403c-8ad0-2393176a8c30",
   "metadata": {},
   "outputs": [],
   "source": [
    "arr4=np.random.randint(10,50,(3,3))"
   ]
  },
  {
   "cell_type": "raw",
   "id": "91ac6455-066d-4459-a865-399994a503de",
   "metadata": {},
   "source": [
    "print(arr4)"
   ]
  },
  {
   "cell_type": "code",
   "execution_count": 35,
   "id": "fe0ebb61-f330-4d52-83a2-e4db60e214cf",
   "metadata": {},
   "outputs": [],
   "source": [
    "arr4=np.random.randint(10,50,(3,3))"
   ]
  },
  {
   "cell_type": "code",
   "execution_count": 37,
   "id": "da3e1300-a0dc-4028-8dd8-e86fdab7b687",
   "metadata": {},
   "outputs": [
    {
     "name": "stdout",
     "output_type": "stream",
     "text": [
      "[[ 7  3 13  5  7 35 90 35 14 41]\n",
      " [81 95 97 29 49 34 66 17 42 68]\n",
      " [78 83  5 67 83 98 65 31  0 41]\n",
      " [79 24 99 81 50 29 55 85 63 79]\n",
      " [26 77 58 91 14 21 75 57 95 30]\n",
      " [42 75 43 86 21 96 84 14 97 69]\n",
      " [ 7 18 32 39 60  9 70 95 97 45]\n",
      " [21  8 78 41 47 47 23 50 14 82]\n",
      " [91 88  5 16 39 40 75 51  7 40]\n",
      " [78  8 94 52 45 60 73 58 77 80]]\n"
     ]
    }
   ],
   "source": [
    "print(arr3)"
   ]
  },
  {
   "cell_type": "code",
   "execution_count": 39,
   "id": "b1c445de-628a-4036-9fff-8c581c2d1944",
   "metadata": {},
   "outputs": [
    {
     "data": {
      "text/plain": [
       "array([90, 14, 34, 66, 42, 68, 78, 98,  0, 24, 50, 26, 58, 14, 30, 42, 86,\n",
       "       96, 84, 14, 18, 32, 60, 70,  8, 78, 50, 14, 82, 88, 16, 40, 40, 78,\n",
       "        8, 94, 52, 60, 58, 80])"
      ]
     },
     "execution_count": 39,
     "metadata": {},
     "output_type": "execute_result"
    }
   ],
   "source": [
    "arr3[arr3%2==0]"
   ]
  },
  {
   "cell_type": "code",
   "execution_count": 47,
   "id": "b2d3d8f1-6a47-41ab-a32f-3ca9a417af1b",
   "metadata": {},
   "outputs": [
    {
     "name": "stdout",
     "output_type": "stream",
     "text": [
      "[1 2 5]\n"
     ]
    }
   ],
   "source": [
    "boolArr=np.array([True,True,False,False,True,False])\n",
    "array=np.array([1,2,3,4,5,6])\n",
    "array=array[boolArr]\n",
    "print(array)"
   ]
  }
 ],
 "metadata": {
  "kernelspec": {
   "display_name": "Python [conda env:base] *",
   "language": "python",
   "name": "conda-base-py"
  },
  "language_info": {
   "codemirror_mode": {
    "name": "ipython",
    "version": 3
   },
   "file_extension": ".py",
   "mimetype": "text/x-python",
   "name": "python",
   "nbconvert_exporter": "python",
   "pygments_lexer": "ipython3",
   "version": "3.12.7"
  }
 },
 "nbformat": 4,
 "nbformat_minor": 5
}
