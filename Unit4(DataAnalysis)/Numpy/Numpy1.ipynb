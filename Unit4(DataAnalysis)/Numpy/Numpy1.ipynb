{
 "cells": [
  {
   "cell_type": "code",
   "execution_count": 2,
   "id": "d43833fb-56b7-447d-9351-54e5ce7cf5c9",
   "metadata": {},
   "outputs": [],
   "source": [
    "import numpy as np"
   ]
  },
  {
   "cell_type": "code",
   "execution_count": 4,
   "id": "b4f70961-8cd4-4457-a77e-a865b80e7c61",
   "metadata": {},
   "outputs": [
    {
     "name": "stdout",
     "output_type": "stream",
     "text": [
      "[1 2 3]\n"
     ]
    }
   ],
   "source": [
    "arr=np.array([1,2,3])\n",
    "print(arr)"
   ]
  },
  {
   "cell_type": "code",
   "execution_count": 6,
   "id": "81e420b8-7a2a-41ca-b43c-e6e00899d92d",
   "metadata": {},
   "outputs": [
    {
     "name": "stdout",
     "output_type": "stream",
     "text": [
      "[[0. 0.]\n",
      " [0. 0.]]\n"
     ]
    }
   ],
   "source": [
    "arrOfZeros = np.zeros((2,2)) #create array of 2 by 2 with all elements =0\n",
    "print(arrOfZeros)"
   ]
  },
  {
   "cell_type": "code",
   "execution_count": 8,
   "id": "3a9c2705-b699-4495-a0ce-f4cc5404cd8f",
   "metadata": {},
   "outputs": [
    {
     "name": "stdout",
     "output_type": "stream",
     "text": [
      "[[1. 1. 1.]\n",
      " [1. 1. 1.]\n",
      " [1. 1. 1.]]\n"
     ]
    }
   ],
   "source": [
    "arrOfOnes=np.ones((3,3)) #create array of 3 by 3 with every element =1\n",
    "print(arrOfOnes)"
   ]
  },
  {
   "cell_type": "code",
   "execution_count": 12,
   "id": "c53ef91d-48ad-42e3-be25-5c0239abebb6",
   "metadata": {},
   "outputs": [
    {
     "name": "stdout",
     "output_type": "stream",
     "text": [
      "[[0.33978016 0.58364562 0.47058121]\n",
      " [0.61092364 0.90460401 0.93822424]\n",
      " [0.34486112 0.43733049 0.60111054]]\n"
     ]
    }
   ],
   "source": [
    "arrOfRandomVal = np.random.rand(3,3)   # 3x3 matrix with random float values\n",
    "print(arrOfRandomVal)"
   ]
  },
  {
   "cell_type": "code",
   "execution_count": 14,
   "id": "b013566c-518d-403e-9c7f-2349b329bc6f",
   "metadata": {},
   "outputs": [
    {
     "name": "stdout",
     "output_type": "stream",
     "text": [
      "[[3 9]\n",
      " [2 4]\n",
      " [1 7]]\n"
     ]
    }
   ],
   "source": [
    "IntArray = np.random.randint(1,10,(3,2)) # 3 by 2 matrix with random integers between 1 to 10\n",
    "print(IntArray)"
   ]
  },
  {
   "cell_type": "code",
   "execution_count": null,
   "id": "9acc7e85-455f-470b-805a-84e06e8728d7",
   "metadata": {},
   "outputs": [],
   "source": []
  }
 ],
 "metadata": {
  "kernelspec": {
   "display_name": "Python [conda env:base] *",
   "language": "python",
   "name": "conda-base-py"
  },
  "language_info": {
   "codemirror_mode": {
    "name": "ipython",
    "version": 3
   },
   "file_extension": ".py",
   "mimetype": "text/x-python",
   "name": "python",
   "nbconvert_exporter": "python",
   "pygments_lexer": "ipython3",
   "version": "3.12.7"
  }
 },
 "nbformat": 4,
 "nbformat_minor": 5
}
